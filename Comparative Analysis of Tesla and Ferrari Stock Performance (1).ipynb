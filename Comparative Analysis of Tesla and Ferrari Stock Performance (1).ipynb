{
 "cells": [
  {
   "cell_type": "markdown",
   "id": "a22cad33",
   "metadata": {},
   "source": [
    "# Comparative Analysis of Tesla and Ferrari Stock Performance"
   ]
  },
  {
   "cell_type": "markdown",
   "id": "a3a850e4",
   "metadata": {},
   "source": [
    "### Table of Content"
   ]
  },
  {
   "cell_type": "markdown",
   "id": "da2af8b2",
   "metadata": {},
   "source": [
    "* Introduction\n",
    "* Analysis\n",
    "* Conclusion\n"
   ]
  },
  {
   "cell_type": "markdown",
   "id": "86c552cb",
   "metadata": {},
   "source": [
    "### Introduction"
   ]
  },
  {
   "cell_type": "markdown",
   "id": "fa5a9f77",
   "metadata": {},
   "source": [
    "The aim of this business case study is to conduct a comprehensive data analysis of two renowned companies in the automotive\n",
    "\n",
    "industry: Tesla and Ferrari. By analyzing their stock trading data collected from October 2015 to April 2023, we will unravel \n",
    "\n",
    "key insights into the companies' financial performance and market dynamics. This study seeks to identify the driving forces \n",
    "\n",
    "behind their success, shed light on their growth trajectories, and provide valuable insights for potential investors and \n",
    "\n",
    "industry enthusiasts."
   ]
  },
  {
   "cell_type": "markdown",
   "id": "1cfcb054",
   "metadata": {},
   "source": [
    "### About the dataset"
   ]
  },
  {
   "cell_type": "markdown",
   "id": "ab661f12",
   "metadata": {},
   "source": [
    "The dataset comprises two distinct subsets: one for Tesla and the other for Ferrari. Each dataset contains the following \n",
    "\n",
    "columns:\n",
    "\n",
    "a. 'Date': The specific date of the trading activity recorded.\n",
    "\n",
    "b. 'Open Price': The stock price at the beginning of the trading day.\n",
    "\n",
    "c. 'High': The highest price reached during the trading day.\n",
    "\n",
    "d. 'Low': The lowest price reached during the trading day.\n",
    "\n",
    "e. 'Closing Price': The stock price at the end of the trading day.\n",
    "\n",
    "f. 'Adj Close': The adjusted closing price, accounting for factors such as dividends and stock splits.\n",
    "\n",
    "g. 'Volume': The trading volume of stocks recorded per trading day."
   ]
  },
  {
   "cell_type": "markdown",
   "id": "59d157da",
   "metadata": {},
   "source": [
    "### Objectives"
   ]
  },
  {
   "cell_type": "markdown",
   "id": "dc4ea7c3",
   "metadata": {},
   "source": [
    "a. Identify the overall stock market performance of Tesla and Ferrari during the given period.\n",
    "\n",
    "b. Analyze and compare the volatility and price trends of Tesla and Ferrari stocks.\n",
    "\n",
    "c. Explore the relationship between trading volume and stock price movements for both companies.\n",
    "\n",
    "d. Provide insights into the investment potential and risk associated with investing in Tesla and Ferrari stocks."
   ]
  },
  {
   "cell_type": "markdown",
   "id": "f0f5b392",
   "metadata": {},
   "source": [
    "### Methodology"
   ]
  },
  {
   "cell_type": "markdown",
   "id": "4885c051",
   "metadata": {},
   "source": [
    "a. Descriptive Analysis: Conduct statistical summaries and visualizations to understand the distribution, central tendency, and \n",
    "\n",
    "variability of stock prices and trading volume for both companies.\n",
    "\n",
    "b. Comparative Analysis: Compare and contrast the stock performance of Tesla and Ferrari using key metrics such as daily \n",
    "\n",
    "returns, and market capitalization.\n",
    "\n",
    "c. Correlation Analysis: Examine the relationship between trading volume and stock price movements to determine if there is a \n",
    "\n",
    "meaningful connection."
   ]
  },
  {
   "cell_type": "markdown",
   "id": "e84b53dc",
   "metadata": {},
   "source": [
    "### Expected Outcomes"
   ]
  },
  {
   "cell_type": "markdown",
   "id": "2585e033",
   "metadata": {},
   "source": [
    "a. Comparative Performance: Analyze and compare the overall stock market performance of Tesla and Ferrari during the given\n",
    "\n",
    "period, highlighting the winners and losers in terms of stock price appreciation.\n",
    "\n",
    "b. Volatility Analysis: Determine the volatility patterns of Tesla and Ferrari stocks, identifying periods of high and low \n",
    "\n",
    "volatility and potential triggers.\n",
    "\n",
    "c. Trading Volume Analysis: Investigate the relationship between trading volume and stock price movements, unveiling insights \n",
    "\n",
    "into investor sentiment and market liquidity."
   ]
  },
  {
   "cell_type": "markdown",
   "id": "38b66e30",
   "metadata": {},
   "source": [
    "### Analysis"
   ]
  },
  {
   "cell_type": "markdown",
   "id": "8cf1c73c",
   "metadata": {},
   "source": [
    "#### Importing the python packages to be used for analysis"
   ]
  },
  {
   "cell_type": "code",
   "execution_count": 1,
   "id": "70f4f1f7",
   "metadata": {},
   "outputs": [],
   "source": [
    "import pandas as pd\n",
    "import numpy as np\n",
    "import matplotlib.pyplot as plt\n",
    "import seaborn as sns\n",
    "%matplotlib inline"
   ]
  },
  {
   "cell_type": "code",
   "execution_count": 2,
   "id": "3b8ab5f2",
   "metadata": {},
   "outputs": [
    {
     "data": {
      "text/html": [
       "<div>\n",
       "<style scoped>\n",
       "    .dataframe tbody tr th:only-of-type {\n",
       "        vertical-align: middle;\n",
       "    }\n",
       "\n",
       "    .dataframe tbody tr th {\n",
       "        vertical-align: top;\n",
       "    }\n",
       "\n",
       "    .dataframe thead th {\n",
       "        text-align: right;\n",
       "    }\n",
       "</style>\n",
       "<table border=\"1\" class=\"dataframe\">\n",
       "  <thead>\n",
       "    <tr style=\"text-align: right;\">\n",
       "      <th></th>\n",
       "      <th>Date</th>\n",
       "      <th>Open</th>\n",
       "      <th>High</th>\n",
       "      <th>Low</th>\n",
       "      <th>Close</th>\n",
       "      <th>Adj Close</th>\n",
       "      <th>Volume</th>\n",
       "    </tr>\n",
       "  </thead>\n",
       "  <tbody>\n",
       "    <tr>\n",
       "      <th>0</th>\n",
       "      <td>2015-10-22</td>\n",
       "      <td>14.104000</td>\n",
       "      <td>14.383333</td>\n",
       "      <td>13.960000</td>\n",
       "      <td>14.114667</td>\n",
       "      <td>14.114667</td>\n",
       "      <td>42378000</td>\n",
       "    </tr>\n",
       "    <tr>\n",
       "      <th>1</th>\n",
       "      <td>2015-10-23</td>\n",
       "      <td>14.333333</td>\n",
       "      <td>14.356667</td>\n",
       "      <td>13.846000</td>\n",
       "      <td>13.939333</td>\n",
       "      <td>13.939333</td>\n",
       "      <td>63532500</td>\n",
       "    </tr>\n",
       "    <tr>\n",
       "      <th>2</th>\n",
       "      <td>2015-10-26</td>\n",
       "      <td>14.092000</td>\n",
       "      <td>14.392000</td>\n",
       "      <td>14.000000</td>\n",
       "      <td>14.350667</td>\n",
       "      <td>14.350667</td>\n",
       "      <td>50871000</td>\n",
       "    </tr>\n",
       "    <tr>\n",
       "      <th>3</th>\n",
       "      <td>2015-10-27</td>\n",
       "      <td>14.322667</td>\n",
       "      <td>14.473333</td>\n",
       "      <td>13.834000</td>\n",
       "      <td>14.023333</td>\n",
       "      <td>14.023333</td>\n",
       "      <td>52791000</td>\n",
       "    </tr>\n",
       "    <tr>\n",
       "      <th>4</th>\n",
       "      <td>2015-10-28</td>\n",
       "      <td>14.087333</td>\n",
       "      <td>14.230000</td>\n",
       "      <td>13.886667</td>\n",
       "      <td>14.197333</td>\n",
       "      <td>14.197333</td>\n",
       "      <td>40929000</td>\n",
       "    </tr>\n",
       "    <tr>\n",
       "      <th>...</th>\n",
       "      <td>...</td>\n",
       "      <td>...</td>\n",
       "      <td>...</td>\n",
       "      <td>...</td>\n",
       "      <td>...</td>\n",
       "      <td>...</td>\n",
       "      <td>...</td>\n",
       "    </tr>\n",
       "    <tr>\n",
       "      <th>1880</th>\n",
       "      <td>2023-04-13</td>\n",
       "      <td>182.960007</td>\n",
       "      <td>186.500000</td>\n",
       "      <td>180.940002</td>\n",
       "      <td>185.899994</td>\n",
       "      <td>185.899994</td>\n",
       "      <td>112933000</td>\n",
       "    </tr>\n",
       "    <tr>\n",
       "      <th>1881</th>\n",
       "      <td>2023-04-14</td>\n",
       "      <td>183.949997</td>\n",
       "      <td>186.279999</td>\n",
       "      <td>182.009995</td>\n",
       "      <td>185.000000</td>\n",
       "      <td>185.000000</td>\n",
       "      <td>96306500</td>\n",
       "    </tr>\n",
       "    <tr>\n",
       "      <th>1882</th>\n",
       "      <td>2023-04-17</td>\n",
       "      <td>186.320007</td>\n",
       "      <td>189.690002</td>\n",
       "      <td>182.690002</td>\n",
       "      <td>187.039993</td>\n",
       "      <td>187.039993</td>\n",
       "      <td>116662200</td>\n",
       "    </tr>\n",
       "    <tr>\n",
       "      <th>1883</th>\n",
       "      <td>2023-04-18</td>\n",
       "      <td>187.149994</td>\n",
       "      <td>187.690002</td>\n",
       "      <td>183.580002</td>\n",
       "      <td>184.309998</td>\n",
       "      <td>184.309998</td>\n",
       "      <td>92067000</td>\n",
       "    </tr>\n",
       "    <tr>\n",
       "      <th>1884</th>\n",
       "      <td>2023-04-19</td>\n",
       "      <td>179.100006</td>\n",
       "      <td>183.500000</td>\n",
       "      <td>177.649994</td>\n",
       "      <td>180.589996</td>\n",
       "      <td>180.589996</td>\n",
       "      <td>120930900</td>\n",
       "    </tr>\n",
       "  </tbody>\n",
       "</table>\n",
       "<p>1885 rows × 7 columns</p>\n",
       "</div>"
      ],
      "text/plain": [
       "            Date        Open        High         Low       Close   Adj Close  \\\n",
       "0     2015-10-22   14.104000   14.383333   13.960000   14.114667   14.114667   \n",
       "1     2015-10-23   14.333333   14.356667   13.846000   13.939333   13.939333   \n",
       "2     2015-10-26   14.092000   14.392000   14.000000   14.350667   14.350667   \n",
       "3     2015-10-27   14.322667   14.473333   13.834000   14.023333   14.023333   \n",
       "4     2015-10-28   14.087333   14.230000   13.886667   14.197333   14.197333   \n",
       "...          ...         ...         ...         ...         ...         ...   \n",
       "1880  2023-04-13  182.960007  186.500000  180.940002  185.899994  185.899994   \n",
       "1881  2023-04-14  183.949997  186.279999  182.009995  185.000000  185.000000   \n",
       "1882  2023-04-17  186.320007  189.690002  182.690002  187.039993  187.039993   \n",
       "1883  2023-04-18  187.149994  187.690002  183.580002  184.309998  184.309998   \n",
       "1884  2023-04-19  179.100006  183.500000  177.649994  180.589996  180.589996   \n",
       "\n",
       "         Volume  \n",
       "0      42378000  \n",
       "1      63532500  \n",
       "2      50871000  \n",
       "3      52791000  \n",
       "4      40929000  \n",
       "...         ...  \n",
       "1880  112933000  \n",
       "1881   96306500  \n",
       "1882  116662200  \n",
       "1883   92067000  \n",
       "1884  120930900  \n",
       "\n",
       "[1885 rows x 7 columns]"
      ]
     },
     "execution_count": 2,
     "metadata": {},
     "output_type": "execute_result"
    }
   ],
   "source": [
    "#Loading Tesla data into pandas.\n",
    "# Then assign the variable name 'df_tesla' to the dataframe.\n",
    "# Finally, we will print the dataframe.\n",
    "\n",
    "df_tesla = pd.read_csv('Downloads/Tesla.csv')\n",
    "df_tesla"
   ]
  },
  {
   "cell_type": "code",
   "execution_count": 3,
   "id": "ea09289a",
   "metadata": {},
   "outputs": [
    {
     "data": {
      "text/html": [
       "<div>\n",
       "<style scoped>\n",
       "    .dataframe tbody tr th:only-of-type {\n",
       "        vertical-align: middle;\n",
       "    }\n",
       "\n",
       "    .dataframe tbody tr th {\n",
       "        vertical-align: top;\n",
       "    }\n",
       "\n",
       "    .dataframe thead th {\n",
       "        text-align: right;\n",
       "    }\n",
       "</style>\n",
       "<table border=\"1\" class=\"dataframe\">\n",
       "  <thead>\n",
       "    <tr style=\"text-align: right;\">\n",
       "      <th></th>\n",
       "      <th>Date</th>\n",
       "      <th>Open</th>\n",
       "      <th>High</th>\n",
       "      <th>Low</th>\n",
       "      <th>Close</th>\n",
       "      <th>Adj Close</th>\n",
       "      <th>Volume</th>\n",
       "    </tr>\n",
       "  </thead>\n",
       "  <tbody>\n",
       "    <tr>\n",
       "      <th>0</th>\n",
       "      <td>2015-10-22</td>\n",
       "      <td>57.070000</td>\n",
       "      <td>58.200001</td>\n",
       "      <td>55.700001</td>\n",
       "      <td>56.750000</td>\n",
       "      <td>53.604126</td>\n",
       "      <td>4545100</td>\n",
       "    </tr>\n",
       "    <tr>\n",
       "      <th>1</th>\n",
       "      <td>2015-10-23</td>\n",
       "      <td>57.770000</td>\n",
       "      <td>58.000000</td>\n",
       "      <td>56.270000</td>\n",
       "      <td>56.380001</td>\n",
       "      <td>53.254635</td>\n",
       "      <td>1967600</td>\n",
       "    </tr>\n",
       "    <tr>\n",
       "      <th>2</th>\n",
       "      <td>2015-10-26</td>\n",
       "      <td>57.000000</td>\n",
       "      <td>57.000000</td>\n",
       "      <td>54.540001</td>\n",
       "      <td>55.020000</td>\n",
       "      <td>51.970028</td>\n",
       "      <td>1466300</td>\n",
       "    </tr>\n",
       "    <tr>\n",
       "      <th>3</th>\n",
       "      <td>2015-10-27</td>\n",
       "      <td>54.799999</td>\n",
       "      <td>54.990002</td>\n",
       "      <td>49.360001</td>\n",
       "      <td>53.849998</td>\n",
       "      <td>50.864880</td>\n",
       "      <td>5949200</td>\n",
       "    </tr>\n",
       "    <tr>\n",
       "      <th>4</th>\n",
       "      <td>2015-10-28</td>\n",
       "      <td>54.020000</td>\n",
       "      <td>54.160000</td>\n",
       "      <td>50.099998</td>\n",
       "      <td>51.869999</td>\n",
       "      <td>48.994644</td>\n",
       "      <td>2411300</td>\n",
       "    </tr>\n",
       "    <tr>\n",
       "      <th>...</th>\n",
       "      <td>...</td>\n",
       "      <td>...</td>\n",
       "      <td>...</td>\n",
       "      <td>...</td>\n",
       "      <td>...</td>\n",
       "      <td>...</td>\n",
       "      <td>...</td>\n",
       "    </tr>\n",
       "    <tr>\n",
       "      <th>1880</th>\n",
       "      <td>2023-04-13</td>\n",
       "      <td>283.000000</td>\n",
       "      <td>284.859985</td>\n",
       "      <td>279.720001</td>\n",
       "      <td>282.940002</td>\n",
       "      <td>282.940002</td>\n",
       "      <td>679800</td>\n",
       "    </tr>\n",
       "    <tr>\n",
       "      <th>1881</th>\n",
       "      <td>2023-04-14</td>\n",
       "      <td>284.940002</td>\n",
       "      <td>286.609985</td>\n",
       "      <td>284.350006</td>\n",
       "      <td>285.529999</td>\n",
       "      <td>285.529999</td>\n",
       "      <td>462000</td>\n",
       "    </tr>\n",
       "    <tr>\n",
       "      <th>1882</th>\n",
       "      <td>2023-04-17</td>\n",
       "      <td>280.619995</td>\n",
       "      <td>281.399994</td>\n",
       "      <td>277.920013</td>\n",
       "      <td>281.040009</td>\n",
       "      <td>281.040009</td>\n",
       "      <td>337500</td>\n",
       "    </tr>\n",
       "    <tr>\n",
       "      <th>1883</th>\n",
       "      <td>2023-04-18</td>\n",
       "      <td>280.140015</td>\n",
       "      <td>281.640015</td>\n",
       "      <td>278.925995</td>\n",
       "      <td>280.600006</td>\n",
       "      <td>280.600006</td>\n",
       "      <td>309300</td>\n",
       "    </tr>\n",
       "    <tr>\n",
       "      <th>1884</th>\n",
       "      <td>2023-04-19</td>\n",
       "      <td>279.959991</td>\n",
       "      <td>280.190002</td>\n",
       "      <td>278.220001</td>\n",
       "      <td>278.630005</td>\n",
       "      <td>278.630005</td>\n",
       "      <td>271900</td>\n",
       "    </tr>\n",
       "  </tbody>\n",
       "</table>\n",
       "<p>1885 rows × 7 columns</p>\n",
       "</div>"
      ],
      "text/plain": [
       "            Date        Open        High         Low       Close   Adj Close  \\\n",
       "0     2015-10-22   57.070000   58.200001   55.700001   56.750000   53.604126   \n",
       "1     2015-10-23   57.770000   58.000000   56.270000   56.380001   53.254635   \n",
       "2     2015-10-26   57.000000   57.000000   54.540001   55.020000   51.970028   \n",
       "3     2015-10-27   54.799999   54.990002   49.360001   53.849998   50.864880   \n",
       "4     2015-10-28   54.020000   54.160000   50.099998   51.869999   48.994644   \n",
       "...          ...         ...         ...         ...         ...         ...   \n",
       "1880  2023-04-13  283.000000  284.859985  279.720001  282.940002  282.940002   \n",
       "1881  2023-04-14  284.940002  286.609985  284.350006  285.529999  285.529999   \n",
       "1882  2023-04-17  280.619995  281.399994  277.920013  281.040009  281.040009   \n",
       "1883  2023-04-18  280.140015  281.640015  278.925995  280.600006  280.600006   \n",
       "1884  2023-04-19  279.959991  280.190002  278.220001  278.630005  278.630005   \n",
       "\n",
       "       Volume  \n",
       "0     4545100  \n",
       "1     1967600  \n",
       "2     1466300  \n",
       "3     5949200  \n",
       "4     2411300  \n",
       "...       ...  \n",
       "1880   679800  \n",
       "1881   462000  \n",
       "1882   337500  \n",
       "1883   309300  \n",
       "1884   271900  \n",
       "\n",
       "[1885 rows x 7 columns]"
      ]
     },
     "execution_count": 3,
     "metadata": {},
     "output_type": "execute_result"
    }
   ],
   "source": [
    "#Loading Ferrari data into pandas.\n",
    "# Then assign the variable name 'df_ferrari' to the dataframe.\n",
    "# Finally, we will print the dataframe.\n",
    "\n",
    "df_ferrari = pd.read_csv('Downloads/Ferrari.csv')\n",
    "df_ferrari"
   ]
  },
  {
   "cell_type": "markdown",
   "id": "eec35030",
   "metadata": {},
   "source": [
    "Like earlier mentioned in the data description, both subsets of data have 6 columns each, Date, Open, High, Low, Close, Adj \n",
    "\n",
    "Close, and Volume."
   ]
  },
  {
   "cell_type": "markdown",
   "id": "501e128f",
   "metadata": {},
   "source": [
    "#### Data Cleaning"
   ]
  },
  {
   "cell_type": "markdown",
   "id": "98589881",
   "metadata": {},
   "source": [
    "We will be renaming the column headers for better clarity and context."
   ]
  },
  {
   "cell_type": "code",
   "execution_count": 4,
   "id": "bc6126f0",
   "metadata": {},
   "outputs": [],
   "source": [
    "# renaming mispelt columns for the tesla subset.\n",
    "\n",
    "df_tesla.rename(columns = {'Date':'date', 'Open':'opening_price', 'High':'daily_high', 'Low':'daily_low', 'Close':'closing_price', 'Adj Close':'adj_closing_price', 'Volume':'trading_volume'}, inplace=True)"
   ]
  },
  {
   "cell_type": "code",
   "execution_count": 5,
   "id": "534ec207",
   "metadata": {},
   "outputs": [],
   "source": [
    "# renaming mispelt columns for the ferrari subset.\n",
    "\n",
    "df_ferrari.rename(columns = {'Date':'date', 'Open':'opening_price', 'High':'daily_high', 'Low':'daily_low', 'Close':'closing_price', 'Adj Close':'adj_closing_price', 'Volume':'trading_volume'}, inplace=True)"
   ]
  },
  {
   "cell_type": "code",
   "execution_count": 6,
   "id": "2bcefdc3",
   "metadata": {},
   "outputs": [
    {
     "name": "stdout",
     "output_type": "stream",
     "text": [
      "<class 'pandas.core.frame.DataFrame'>\n",
      "RangeIndex: 1885 entries, 0 to 1884\n",
      "Data columns (total 7 columns):\n",
      " #   Column             Non-Null Count  Dtype  \n",
      "---  ------             --------------  -----  \n",
      " 0   date               1885 non-null   object \n",
      " 1   opening_price      1885 non-null   float64\n",
      " 2   daily_high         1885 non-null   float64\n",
      " 3   daily_low          1885 non-null   float64\n",
      " 4   closing_price      1885 non-null   float64\n",
      " 5   adj_closing_price  1885 non-null   float64\n",
      " 6   trading_volume     1885 non-null   int64  \n",
      "dtypes: float64(5), int64(1), object(1)\n",
      "memory usage: 103.2+ KB\n"
     ]
    }
   ],
   "source": [
    "# Check for basic information regarding both subsets of data\n",
    "\n",
    "df_tesla.info()"
   ]
  },
  {
   "cell_type": "code",
   "execution_count": 7,
   "id": "507105cb",
   "metadata": {},
   "outputs": [
    {
     "name": "stdout",
     "output_type": "stream",
     "text": [
      "<class 'pandas.core.frame.DataFrame'>\n",
      "RangeIndex: 1885 entries, 0 to 1884\n",
      "Data columns (total 7 columns):\n",
      " #   Column             Non-Null Count  Dtype  \n",
      "---  ------             --------------  -----  \n",
      " 0   date               1885 non-null   object \n",
      " 1   opening_price      1885 non-null   float64\n",
      " 2   daily_high         1885 non-null   float64\n",
      " 3   daily_low          1885 non-null   float64\n",
      " 4   closing_price      1885 non-null   float64\n",
      " 5   adj_closing_price  1885 non-null   float64\n",
      " 6   trading_volume     1885 non-null   int64  \n",
      "dtypes: float64(5), int64(1), object(1)\n",
      "memory usage: 103.2+ KB\n"
     ]
    }
   ],
   "source": [
    "df_ferrari.info()"
   ]
  },
  {
   "cell_type": "markdown",
   "id": "ae916a13",
   "metadata": {},
   "source": [
    "From the results, both subsets of data have no null values and all the columns have consistent data types. Hence our data is \n",
    "\n",
    "ready for analysis."
   ]
  },
  {
   "cell_type": "markdown",
   "id": "6c852dc2",
   "metadata": {},
   "source": [
    "## Analysis"
   ]
  },
  {
   "cell_type": "markdown",
   "id": "54533c8b",
   "metadata": {},
   "source": [
    "#### Descriptive Analysis"
   ]
  },
  {
   "cell_type": "markdown",
   "id": "ee0b269f",
   "metadata": {},
   "source": [
    "In this phase, we will;\n",
    "\n",
    "1. Use Python libraries like Pandas and NumPy to load and manipulate the dataset.\n",
    "\n",
    "\n",
    "2. Calculate descriptive statistics (mean, median, standard deviation, etc.) using Pandas' DataFrame functions.\n",
    "\n",
    "\n",
    "3. Visualize the distribution and trends of stock prices and trading volume using libraries such as Matplotlib or Seaborn."
   ]
  },
  {
   "cell_type": "code",
   "execution_count": 8,
   "id": "24c0aea1",
   "metadata": {},
   "outputs": [
    {
     "data": {
      "text/html": [
       "<div>\n",
       "<style scoped>\n",
       "    .dataframe tbody tr th:only-of-type {\n",
       "        vertical-align: middle;\n",
       "    }\n",
       "\n",
       "    .dataframe tbody tr th {\n",
       "        vertical-align: top;\n",
       "    }\n",
       "\n",
       "    .dataframe thead th {\n",
       "        text-align: right;\n",
       "    }\n",
       "</style>\n",
       "<table border=\"1\" class=\"dataframe\">\n",
       "  <thead>\n",
       "    <tr style=\"text-align: right;\">\n",
       "      <th></th>\n",
       "      <th>opening_price</th>\n",
       "      <th>daily_high</th>\n",
       "      <th>daily_low</th>\n",
       "      <th>closing_price</th>\n",
       "      <th>adj_closing_price</th>\n",
       "      <th>trading_volume</th>\n",
       "    </tr>\n",
       "  </thead>\n",
       "  <tbody>\n",
       "    <tr>\n",
       "      <th>count</th>\n",
       "      <td>1885.000000</td>\n",
       "      <td>1885.000000</td>\n",
       "      <td>1885.000000</td>\n",
       "      <td>1885.000000</td>\n",
       "      <td>1885.000000</td>\n",
       "      <td>1.885000e+03</td>\n",
       "    </tr>\n",
       "    <tr>\n",
       "      <th>mean</th>\n",
       "      <td>100.049049</td>\n",
       "      <td>102.330085</td>\n",
       "      <td>97.545756</td>\n",
       "      <td>99.989301</td>\n",
       "      <td>99.989301</td>\n",
       "      <td>1.181818e+08</td>\n",
       "    </tr>\n",
       "    <tr>\n",
       "      <th>std</th>\n",
       "      <td>110.688467</td>\n",
       "      <td>113.241143</td>\n",
       "      <td>107.806630</td>\n",
       "      <td>110.544977</td>\n",
       "      <td>110.544977</td>\n",
       "      <td>8.181768e+07</td>\n",
       "    </tr>\n",
       "    <tr>\n",
       "      <th>min</th>\n",
       "      <td>9.488000</td>\n",
       "      <td>10.331333</td>\n",
       "      <td>9.403333</td>\n",
       "      <td>9.578000</td>\n",
       "      <td>9.578000</td>\n",
       "      <td>1.062000e+07</td>\n",
       "    </tr>\n",
       "    <tr>\n",
       "      <th>25%</th>\n",
       "      <td>17.270666</td>\n",
       "      <td>17.557333</td>\n",
       "      <td>16.941334</td>\n",
       "      <td>17.243999</td>\n",
       "      <td>17.243999</td>\n",
       "      <td>6.745200e+07</td>\n",
       "    </tr>\n",
       "    <tr>\n",
       "      <th>50%</th>\n",
       "      <td>23.309999</td>\n",
       "      <td>23.650000</td>\n",
       "      <td>22.916000</td>\n",
       "      <td>23.290001</td>\n",
       "      <td>23.290001</td>\n",
       "      <td>9.321150e+07</td>\n",
       "    </tr>\n",
       "    <tr>\n",
       "      <th>75%</th>\n",
       "      <td>202.029999</td>\n",
       "      <td>207.696671</td>\n",
       "      <td>197.833328</td>\n",
       "      <td>202.070007</td>\n",
       "      <td>202.070007</td>\n",
       "      <td>1.394250e+08</td>\n",
       "    </tr>\n",
       "    <tr>\n",
       "      <th>max</th>\n",
       "      <td>411.470001</td>\n",
       "      <td>414.496674</td>\n",
       "      <td>405.666656</td>\n",
       "      <td>409.970001</td>\n",
       "      <td>409.970001</td>\n",
       "      <td>9.140820e+08</td>\n",
       "    </tr>\n",
       "  </tbody>\n",
       "</table>\n",
       "</div>"
      ],
      "text/plain": [
       "       opening_price   daily_high    daily_low  closing_price  \\\n",
       "count    1885.000000  1885.000000  1885.000000    1885.000000   \n",
       "mean      100.049049   102.330085    97.545756      99.989301   \n",
       "std       110.688467   113.241143   107.806630     110.544977   \n",
       "min         9.488000    10.331333     9.403333       9.578000   \n",
       "25%        17.270666    17.557333    16.941334      17.243999   \n",
       "50%        23.309999    23.650000    22.916000      23.290001   \n",
       "75%       202.029999   207.696671   197.833328     202.070007   \n",
       "max       411.470001   414.496674   405.666656     409.970001   \n",
       "\n",
       "       adj_closing_price  trading_volume  \n",
       "count        1885.000000    1.885000e+03  \n",
       "mean           99.989301    1.181818e+08  \n",
       "std           110.544977    8.181768e+07  \n",
       "min             9.578000    1.062000e+07  \n",
       "25%            17.243999    6.745200e+07  \n",
       "50%            23.290001    9.321150e+07  \n",
       "75%           202.070007    1.394250e+08  \n",
       "max           409.970001    9.140820e+08  "
      ]
     },
     "execution_count": 8,
     "metadata": {},
     "output_type": "execute_result"
    }
   ],
   "source": [
    "# getting the basic statistics and aggregations of the numerical columns in the tesla dataset\n",
    "\n",
    "df_tesla.describe()"
   ]
  },
  {
   "cell_type": "code",
   "execution_count": 9,
   "id": "5b048b87",
   "metadata": {},
   "outputs": [
    {
     "data": {
      "text/html": [
       "<div>\n",
       "<style scoped>\n",
       "    .dataframe tbody tr th:only-of-type {\n",
       "        vertical-align: middle;\n",
       "    }\n",
       "\n",
       "    .dataframe tbody tr th {\n",
       "        vertical-align: top;\n",
       "    }\n",
       "\n",
       "    .dataframe thead th {\n",
       "        text-align: right;\n",
       "    }\n",
       "</style>\n",
       "<table border=\"1\" class=\"dataframe\">\n",
       "  <thead>\n",
       "    <tr style=\"text-align: right;\">\n",
       "      <th></th>\n",
       "      <th>opening_price</th>\n",
       "      <th>daily_high</th>\n",
       "      <th>daily_low</th>\n",
       "      <th>closing_price</th>\n",
       "      <th>adj_closing_price</th>\n",
       "      <th>trading_volume</th>\n",
       "    </tr>\n",
       "  </thead>\n",
       "  <tbody>\n",
       "    <tr>\n",
       "      <th>count</th>\n",
       "      <td>1885.000000</td>\n",
       "      <td>1885.000000</td>\n",
       "      <td>1885.000000</td>\n",
       "      <td>1885.000000</td>\n",
       "      <td>1885.000000</td>\n",
       "      <td>1.885000e+03</td>\n",
       "    </tr>\n",
       "    <tr>\n",
       "      <th>mean</th>\n",
       "      <td>146.694973</td>\n",
       "      <td>147.990397</td>\n",
       "      <td>145.406204</td>\n",
       "      <td>146.696976</td>\n",
       "      <td>144.380032</td>\n",
       "      <td>4.850036e+05</td>\n",
       "    </tr>\n",
       "    <tr>\n",
       "      <th>std</th>\n",
       "      <td>64.586379</td>\n",
       "      <td>65.092660</td>\n",
       "      <td>64.076793</td>\n",
       "      <td>64.569438</td>\n",
       "      <td>65.175258</td>\n",
       "      <td>4.721486e+05</td>\n",
       "    </tr>\n",
       "    <tr>\n",
       "      <th>min</th>\n",
       "      <td>32.290001</td>\n",
       "      <td>32.480000</td>\n",
       "      <td>31.660000</td>\n",
       "      <td>32.000000</td>\n",
       "      <td>30.226114</td>\n",
       "      <td>5.380000e+04</td>\n",
       "    </tr>\n",
       "    <tr>\n",
       "      <th>25%</th>\n",
       "      <td>105.720001</td>\n",
       "      <td>106.580002</td>\n",
       "      <td>104.260002</td>\n",
       "      <td>105.190002</td>\n",
       "      <td>101.958740</td>\n",
       "      <td>2.602000e+05</td>\n",
       "    </tr>\n",
       "    <tr>\n",
       "      <th>50%</th>\n",
       "      <td>151.500000</td>\n",
       "      <td>153.259995</td>\n",
       "      <td>150.000000</td>\n",
       "      <td>151.039993</td>\n",
       "      <td>148.161163</td>\n",
       "      <td>3.703000e+05</td>\n",
       "    </tr>\n",
       "    <tr>\n",
       "      <th>75%</th>\n",
       "      <td>200.860001</td>\n",
       "      <td>202.240005</td>\n",
       "      <td>199.264999</td>\n",
       "      <td>200.729996</td>\n",
       "      <td>199.868561</td>\n",
       "      <td>5.471000e+05</td>\n",
       "    </tr>\n",
       "    <tr>\n",
       "      <th>max</th>\n",
       "      <td>284.940002</td>\n",
       "      <td>286.609985</td>\n",
       "      <td>284.350006</td>\n",
       "      <td>285.529999</td>\n",
       "      <td>285.529999</td>\n",
       "      <td>7.485100e+06</td>\n",
       "    </tr>\n",
       "  </tbody>\n",
       "</table>\n",
       "</div>"
      ],
      "text/plain": [
       "       opening_price   daily_high    daily_low  closing_price  \\\n",
       "count    1885.000000  1885.000000  1885.000000    1885.000000   \n",
       "mean      146.694973   147.990397   145.406204     146.696976   \n",
       "std        64.586379    65.092660    64.076793      64.569438   \n",
       "min        32.290001    32.480000    31.660000      32.000000   \n",
       "25%       105.720001   106.580002   104.260002     105.190002   \n",
       "50%       151.500000   153.259995   150.000000     151.039993   \n",
       "75%       200.860001   202.240005   199.264999     200.729996   \n",
       "max       284.940002   286.609985   284.350006     285.529999   \n",
       "\n",
       "       adj_closing_price  trading_volume  \n",
       "count        1885.000000    1.885000e+03  \n",
       "mean          144.380032    4.850036e+05  \n",
       "std            65.175258    4.721486e+05  \n",
       "min            30.226114    5.380000e+04  \n",
       "25%           101.958740    2.602000e+05  \n",
       "50%           148.161163    3.703000e+05  \n",
       "75%           199.868561    5.471000e+05  \n",
       "max           285.529999    7.485100e+06  "
      ]
     },
     "execution_count": 9,
     "metadata": {},
     "output_type": "execute_result"
    }
   ],
   "source": [
    "# getting the basic statistics and aggregations of the numerical columns in the ferrari dataset\n",
    "\n",
    "df_ferrari.describe()"
   ]
  },
  {
   "cell_type": "markdown",
   "id": "f12b8aee",
   "metadata": {},
   "source": [
    "From the statistical information above, Tesla stocks have a much higher trading volume and also greater maximum values in all \n",
    "\n",
    "the attributes of the dataset compared with Ferrari stocks."
   ]
  },
  {
   "cell_type": "code",
   "execution_count": 10,
   "id": "d07c70b6",
   "metadata": {},
   "outputs": [
    {
     "data": {
      "image/png": "[encoded data removed]",
      "text/plain": [
       "<Figure size 864x864 with 6 Axes>"
      ]
     },
     "metadata": {
      "needs_background": "light"
     },
     "output_type": "display_data"
    }
   ],
   "source": [
    "# plotting a simple histogram of the entire tesla dataset using the histogram function\n",
    "\n",
    "df_tesla.hist(figsize=[12,12]);"
   ]
  },
  {
   "cell_type": "markdown",
   "id": "bc59f24b",
   "metadata": {},
   "source": [
    "Majority of the daily prices, highs and lows captured in this dataset have a higher spread between the $ 0-50 price mark."
   ]
  },
  {
   "cell_type": "code",
   "execution_count": 11,
   "id": "de16e91a",
   "metadata": {},
   "outputs": [
    {
     "data": {
      "image/png": "[encoded data removed]",
      "text/plain": [
       "<Figure size 864x864 with 6 Axes>"
      ]
     },
     "metadata": {
      "needs_background": "light"
     },
     "output_type": "display_data"
    }
   ],
   "source": [
    "# plotting a simple histogram of the entire ferrari dataset using the histogram function\n",
    "\n",
    "df_ferrari.hist(figsize=[12,12]);"
   ]
  },
  {
   "cell_type": "markdown",
   "id": "ca36db9b",
   "metadata": {},
   "source": [
    "The daily prices, highs, lows captured in this dataset have a more spread out price mark."
   ]
  },
  {
   "cell_type": "markdown",
   "id": "5a8b5934",
   "metadata": {},
   "source": [
    "### Comparative Analysis"
   ]
  },
  {
   "cell_type": "markdown",
   "id": "bdaf92f3",
   "metadata": {},
   "source": [
    "In this phase, we will;\n",
    "\n",
    "1. Calculate daily returns for Tesla and Ferrari stocks using Pandas' pct_change() function.\n",
    "\n",
    "\n",
    "2. Compare market capitalization using Pandas DataFrame operations.\n",
    "\n",
    "\n",
    "3. Plot comparative charts to showcase the performance of Tesla and Ferrari stocks over time."
   ]
  },
  {
   "cell_type": "code",
   "execution_count": 12,
   "id": "5487183f",
   "metadata": {},
   "outputs": [
    {
     "data": {
      "text/plain": [
       "0            NaN\n",
       "1      -0.012422\n",
       "2       0.029509\n",
       "3      -0.022810\n",
       "4       0.012408\n",
       "          ...   \n",
       "1880    0.029689\n",
       "1881   -0.004841\n",
       "1882    0.011027\n",
       "1883   -0.014596\n",
       "1884   -0.020183\n",
       "Name: adj_closing_price, Length: 1885, dtype: float64"
      ]
     },
     "execution_count": 12,
     "metadata": {},
     "output_type": "execute_result"
    }
   ],
   "source": [
    "# calculating the daily returns for tesla using the percentage 'pct_change()' function\n",
    "\n",
    "tesla_returns = df_tesla['adj_closing_price'].pct_change()\n",
    "tesla_returns"
   ]
  },
  {
   "cell_type": "code",
   "execution_count": 14,
   "id": "4785fe48",
   "metadata": {},
   "outputs": [
    {
     "data": {
      "text/plain": [
       "0            NaN\n",
       "1      -0.006520\n",
       "2      -0.024122\n",
       "3      -0.021265\n",
       "4      -0.036769\n",
       "          ...   \n",
       "1880    0.022810\n",
       "1881    0.009154\n",
       "1882   -0.015725\n",
       "1883   -0.001566\n",
       "1884   -0.007021\n",
       "Name: adj_closing_price, Length: 1885, dtype: float64"
      ]
     },
     "execution_count": 14,
     "metadata": {},
     "output_type": "execute_result"
    }
   ],
   "source": [
    "# calculating the daily returns for tesla using the 'pct_change() function'\n",
    "\n",
    "ferrari_returns = df_ferrari['adj_closing_price'].pct_change()\n",
    "ferrari_returns"
   ]
  },
  {
   "cell_type": "code",
   "execution_count": 15,
   "id": "b42dda46",
   "metadata": {},
   "outputs": [
    {
     "data": {
      "image/png": "[encoded data removed]",
      "text/plain": [
       "<Figure size 864x432 with 1 Axes>"
      ]
     },
     "metadata": {
      "needs_background": "light"
     },
     "output_type": "display_data"
    }
   ],
   "source": [
    "# Create a dataframe to hold the daily returns\n",
    "\n",
    "data = pd.DataFrame({'date': tesla_returns.index,\n",
    "                    'Tesla': tesla_returns,\n",
    "                    'Ferrari': ferrari_returns})\n",
    "\n",
    "# set figure size for better visibility\n",
    "plt.figure(figsize=(12, 6))\n",
    "\n",
    "# plot line chart using seaborn\n",
    "sns.lineplot(x='date', y='value', hue='variable', data=pd.melt(data, ['date']), palette=['yellow','black'])\n",
    "\n",
    "# Set labels and title\n",
    "plt.xlabel('Date')\n",
    "plt.ylabel('Daily Returns')\n",
    "plt.title('Comparative Daily Return of Tesla and Ferrari Stocks')\n",
    "\n",
    "# Rotate x-axis tick labels for better readability\n",
    "plt.xticks(rotation=45)\n",
    "\n",
    "# Show the plot\n",
    "plt.show()"
   ]
  },
  {
   "cell_type": "markdown",
   "id": "6a29a8cc",
   "metadata": {},
   "source": [
    "The daily returns for Tesla and Ferrari stocks are plotted using Seaborn's lineplot function. The pd.melt() function is used to \n",
    "\n",
    "transform the data into a suitable format for visualization, and the resulting DataFrame is passed to the lineplot. \n",
    "\n",
    "Additionally, the figure size is adjusted to improve visibility, and the x-axis tick labels are rotated to prevent overcrowding.\n",
    "\n",
    "The visualization shows that Ferrari has less volatility in daily returns compared with Tesla. Also Tesla stocks are prone to \n",
    "\n",
    "providing highest and lowest daily return during the duration of the data collected.  "
   ]
  },
  {
   "cell_type": "markdown",
   "id": "af2be362",
   "metadata": {},
   "source": [
    "### Comparing key matrics"
   ]
  },
  {
   "cell_type": "code",
   "execution_count": 16,
   "id": "62729bf9",
   "metadata": {},
   "outputs": [],
   "source": [
    "# Comparing average trading volumes\n",
    "\n",
    "tesla_avg_volume = df_tesla['trading_volume'].mean()\n",
    "ferrari_avg_volume = df_ferrari['trading_volume'].mean()"
   ]
  },
  {
   "cell_type": "code",
   "execution_count": 17,
   "id": "4a570a19",
   "metadata": {},
   "outputs": [
    {
     "data": {
      "text/plain": [
       "118181768.06366047"
      ]
     },
     "execution_count": 17,
     "metadata": {},
     "output_type": "execute_result"
    }
   ],
   "source": [
    "tesla_avg_volume"
   ]
  },
  {
   "cell_type": "code",
   "execution_count": 18,
   "id": "06e295cc",
   "metadata": {},
   "outputs": [
    {
     "data": {
      "text/plain": [
       "485003.6074270557"
      ]
     },
     "execution_count": 18,
     "metadata": {},
     "output_type": "execute_result"
    }
   ],
   "source": [
    "ferrari_avg_volume"
   ]
  },
  {
   "cell_type": "code",
   "execution_count": 19,
   "id": "9cec5d8a",
   "metadata": {},
   "outputs": [
    {
     "data": {
      "image/png": "[encoded data removed]",
      "text/plain": [
       "<Figure size 864x432 with 1 Axes>"
      ]
     },
     "metadata": {
      "needs_background": "light"
     },
     "output_type": "display_data"
    }
   ],
   "source": [
    "# Plot comparative bar chart for average trading volumes\n",
    "labels = ['Tesla', 'Ferrari']\n",
    "values = [tesla_avg_volume, ferrari_avg_volume]\n",
    "# set figure size for better visibility\n",
    "plt.figure(figsize=(12, 6))\n",
    "\n",
    "plt.bar(labels, values)\n",
    "plt.xlabel('Company')\n",
    "plt.ylabel('Average Trading Volume x100m')\n",
    "plt.title('Comparative Average Trading Volumes of Tesla and Ferrari')\n",
    "plt.show()"
   ]
  },
  {
   "cell_type": "markdown",
   "id": "6a970852",
   "metadata": {},
   "source": [
    "Tesla has a mean daily trading volume of 118 million which is significantly higher when compared with the paltry 485 thousand traded volume \n",
    "\n",
    "of Ferrari."
   ]
  },
  {
   "cell_type": "markdown",
   "id": "dc61a8ef",
   "metadata": {},
   "source": [
    "### Market capitalization comparison"
   ]
  },
  {
   "cell_type": "code",
   "execution_count": 20,
   "id": "47763cd3",
   "metadata": {},
   "outputs": [],
   "source": [
    "# Calculate market capitalization based on closing price and volume\n",
    "\n",
    "tesla_market_cap = df_tesla['adj_closing_price'] * df_tesla['trading_volume']\n",
    "ferrari_market_cap = df_ferrari['adj_closing_price'] * df_ferrari['trading_volume']"
   ]
  },
  {
   "cell_type": "markdown",
   "id": "054cf42a",
   "metadata": {},
   "source": [
    "Let's see the maximum market capitalization recored for both stocks."
   ]
  },
  {
   "cell_type": "code",
   "execution_count": 21,
   "id": "151ede3d",
   "metadata": {},
   "outputs": [
    {
     "data": {
      "text/plain": [
       "154377712554.0192"
      ]
     },
     "execution_count": 21,
     "metadata": {},
     "output_type": "execute_result"
    }
   ],
   "source": [
    "# Checking the maximum market capitalization recorded by Tesla\n",
    "\n",
    "tesla_market_cap_max = tesla_market_cap.max()\n",
    "tesla_market_cap_max"
   ]
  },
  {
   "cell_type": "markdown",
   "id": "47fae973",
   "metadata": {},
   "source": [
    "Tesla recorded over 150 billion dollars as its highest market capitalization during the duration of this dataset."
   ]
  },
  {
   "cell_type": "code",
   "execution_count": 22,
   "id": "a5633632",
   "metadata": {},
   "outputs": [
    {
     "data": {
      "text/plain": [
       "739651040.3100001"
      ]
     },
     "execution_count": 22,
     "metadata": {},
     "output_type": "execute_result"
    }
   ],
   "source": [
    "# Checking the maximum market capitalization recorded by Tesla\n",
    "\n",
    "ferrari_market_cap_max = ferrari_market_cap.max()\n",
    "ferrari_market_cap_max"
   ]
  },
  {
   "cell_type": "markdown",
   "id": "8de0b4ab",
   "metadata": {},
   "source": [
    "Ferrari recorded just over 739 million dollars as its highest market capitalization during the duration of this dataset."
   ]
  },
  {
   "cell_type": "code",
   "execution_count": 23,
   "id": "9cd21c94",
   "metadata": {},
   "outputs": [
    {
     "data": {
      "image/png": "[encoded data removed]",
      "text/plain": [
       "<Figure size 864x432 with 1 Axes>"
      ]
     },
     "metadata": {
      "needs_background": "light"
     },
     "output_type": "display_data"
    }
   ],
   "source": [
    "# Create a dataframe to hold the daily returns\n",
    "\n",
    "data = pd.DataFrame({'date': tesla_market_cap.index,\n",
    "                    'Tesla': tesla_market_cap,\n",
    "                    'Ferrari': ferrari_market_cap})\n",
    "\n",
    "# set figure size for better visibility\n",
    "plt.figure(figsize=(12, 6))\n",
    "\n",
    "# plot line chart using seaborn\n",
    "sns.lineplot(x='date', y='value', hue='variable', data=pd.melt(data, ['date']), palette=['yellow','black'])\n",
    "\n",
    "# Set labels and title\n",
    "plt.xlabel('Date')\n",
    "plt.ylabel('Market Capitalization')\n",
    "plt.title('Comparative Market Capitalization of Tesla and Ferrari Stocks')\n",
    "\n",
    "# Rotate x-axis tick labels for better readability\n",
    "plt.xticks(rotation=45)\n",
    "\n",
    "# Show the plot\n",
    "plt.show()"
   ]
  },
  {
   "cell_type": "markdown",
   "id": "20a3ed1a",
   "metadata": {},
   "source": [
    "Because the market capitalization of Tesla is significantly higher than Ferrari, there seems to be no change overtime in the \n",
    "\n",
    "line representing Ferrari. As a result i will plot the charts for Ferrari separately so we can see the change in its market \n",
    "\n",
    "capitalization overtime. "
   ]
  },
  {
   "cell_type": "code",
   "execution_count": 24,
   "id": "ca5d66a4",
   "metadata": {},
   "outputs": [
    {
     "data": {
      "image/png": "[encoded data removed]",
      "text/plain": [
       "<Figure size 864x432 with 1 Axes>"
      ]
     },
     "metadata": {
      "needs_background": "light"
     },
     "output_type": "display_data"
    }
   ],
   "source": [
    "# Create a dataframe to hold the daily returns\n",
    "\n",
    "data = pd.DataFrame({'date': ferrari_market_cap.index,\n",
    "                    'Ferrari': ferrari_market_cap})\n",
    "\n",
    "# set figure size for better visibility\n",
    "plt.figure(figsize=(12, 6))\n",
    "\n",
    "# plot line chart using seaborn\n",
    "sns.lineplot(x='date', y='Ferrari', data=data, color='black')\n",
    "\n",
    "# Set labels and title\n",
    "plt.xlabel('Date')\n",
    "plt.ylabel('Market Capitalization')\n",
    "plt.title('Market Capitalization of Ferrari Stocks')\n",
    "\n",
    "# Rotate x-axis tick labels for better readability\n",
    "plt.xticks(rotation=45)\n",
    "\n",
    "# Show the plot\n",
    "plt.show()"
   ]
  },
  {
   "cell_type": "markdown",
   "id": "506f97f2",
   "metadata": {},
   "source": [
    "### Correlation Analysis"
   ]
  },
  {
   "cell_type": "markdown",
   "id": "e8edb076",
   "metadata": {},
   "source": [
    "Here, we will examine the relationship between trading volume and stock price movements to determine if there is a\n",
    "\n",
    "meaningful connection. We first extract the 'closing price' and 'trading volume' columns from the Tesla and Ferrari dataframes. \n",
    "\n",
    "We then calculate the correlation between trading volume and stock price movements using the corr() function from Pandas."
   ]
  },
  {
   "cell_type": "code",
   "execution_count": 25,
   "id": "6d005421",
   "metadata": {},
   "outputs": [],
   "source": [
    "# Extract the 'closing price' and 'trading volume' columns from the dataframes\n",
    "tesla_close = df_tesla['closing_price']\n",
    "tesla_volume = df_tesla['trading_volume']\n",
    "\n",
    "ferrari_close = df_ferrari['closing_price']\n",
    "ferrari_volume = df_ferrari['trading_volume']\n",
    "\n"
   ]
  },
  {
   "cell_type": "code",
   "execution_count": 26,
   "id": "90528fe2",
   "metadata": {},
   "outputs": [
    {
     "name": "stdout",
     "output_type": "stream",
     "text": [
      "Correlation between Tesla's trading volume and stock price: -0.12967322260462624\n",
      "Correlation between Ferrari's trading volume and stock price: -0.29405760844481355\n"
     ]
    }
   ],
   "source": [
    "# Calculate the correlation between trading volume and stock price movements\n",
    "tesla_corr = tesla_close.corr(tesla_volume)\n",
    "ferrari_corr = ferrari_close.corr(ferrari_volume)\n",
    "\n",
    "# Print the correlation coefficients\n",
    "print(\"Correlation between Tesla's trading volume and stock price:\", tesla_corr)\n",
    "print(\"Correlation between Ferrari's trading volume and stock price:\", ferrari_corr)"
   ]
  },
  {
   "cell_type": "markdown",
   "id": "fedc616d",
   "metadata": {},
   "source": [
    "The correlation coefficient measures the strength and direction of the linear relationship between two variables. It ranges from \n",
    "\n",
    "-1 to 1, where -1 indicates a strong negative correlation, 1 indicates a strong positive correlation, and 0 indicates no linear \n",
    "\n",
    "correlation. Both tesla and ferrari correlation values are close to the 0 mark, hence they both indicate a weak correlation."
   ]
  },
  {
   "cell_type": "markdown",
   "id": "3f173fdc",
   "metadata": {},
   "source": [
    "#### Scatter plots and Matrix Heatmap"
   ]
  },
  {
   "cell_type": "markdown",
   "id": "a0a75d1d",
   "metadata": {},
   "source": [
    "Next, we visualize the correlation using a scatter plot. The trading volume is plotted on the x-axis, and the closing price is \n",
    "\n",
    "plotted on the y-axis. The scatter plot shows the data points for both Tesla and Ferrari, allowing you to visually analyze the \n",
    "\n",
    "relationship between trading volume and stock price movements."
   ]
  },
  {
   "cell_type": "code",
   "execution_count": 27,
   "id": "d8ea1d74",
   "metadata": {},
   "outputs": [
    {
     "data": {
      "image/png": "[encoded data removed]",
      "text/plain": [
       "<Figure size 576x432 with 1 Axes>"
      ]
     },
     "metadata": {
      "needs_background": "light"
     },
     "output_type": "display_data"
    }
   ],
   "source": [
    "# Visualize the correlation using a scatter plot\n",
    "plt.figure(figsize=(8, 6))\n",
    "plt.scatter(tesla_volume, tesla_close, label=\"Tesla\")\n",
    "plt.scatter(ferrari_volume, ferrari_close, label=\"Ferrari\")\n",
    "plt.xlabel('Trading Volume')\n",
    "plt.ylabel('Closing Price')\n",
    "plt.title('Correlation between Trading Volume and Stock Price')\n",
    "plt.legend()\n",
    "plt.show()"
   ]
  },
  {
   "cell_type": "markdown",
   "id": "460a6f21",
   "metadata": {},
   "source": [
    "From the visualization, Tesla has a much greater spread of its correlation between trading volume and stock price and this is so \n",
    "\n",
    "because it has a significantly higher trading volume compared with Ferrari."
   ]
  },
  {
   "cell_type": "markdown",
   "id": "ba4898bb",
   "metadata": {},
   "source": [
    "Additionally, we create a DataFrame called 'data' with the relevant columns. Using Seaborn's heatmap function, we generate a \n",
    "\n",
    "correlation matrix heatmap based on the correlation matrix of the 'data' DataFrame. The annot=True parameter adds annotations to \n",
    "\n",
    "the heatmap cells, displaying the correlation values."
   ]
  },
  {
   "cell_type": "code",
   "execution_count": 28,
   "id": "1c1711dc",
   "metadata": {},
   "outputs": [
    {
     "data": {
      "image/png": "[encoded data removed]",
      "text/plain": [
       "<Figure size 576x432 with 2 Axes>"
      ]
     },
     "metadata": {
      "needs_background": "light"
     },
     "output_type": "display_data"
    }
   ],
   "source": [
    "# Visualize the correlation using a matrix heatmap\n",
    "\n",
    "# Create a DataFrame to hold the relevant columns\n",
    "data = pd.DataFrame({'Tesla Close': tesla_close, 'Tesla Volume': tesla_volume,\n",
    "                     'Ferrari Close': ferrari_close, 'Ferrari Volume': ferrari_volume})\n",
    "\n",
    "# Create a correlation matrix heatmap using Seaborn\n",
    "plt.figure(figsize=(8, 6))\n",
    "sns.heatmap(data.corr(), annot=True, cmap='coolwarm')\n",
    "plt.title('Correlation Matrix Heatmap: Trading Volume vs. Stock Price')\n",
    "plt.show()"
   ]
  },
  {
   "cell_type": "markdown",
   "id": "03e6aa2e",
   "metadata": {},
   "source": [
    "The correlation heatmap assigns colors to different correlation coefficients. A color gradient is used, with the darker colors \n",
    "\n",
    "representing strong negative correlations, lighter colors representing strong positive correlations, and a neutral color \n",
    "\n",
    "(lighter shade) representing no correlation. Each cell represents the correlation between two variables. The heatmap also \n",
    "\n",
    "includes numerical values within each cell, representing the actual correlation coefficients. These values help us\n",
    "\n",
    "understand the magnitude of the correlation. The closer the correlation coefficient is to -1 or 1, the stronger the correlation, \n",
    "\n",
    "and values closer to 0 indicate weaker or no correlation.\n",
    "\n",
    "In the case of market capitalization and the price of Ferrari/Tesla stock, a strong negative correlation would imply that as \n",
    "\n",
    "market capitalization increases, the price of Ferrari/Tesla stocks tends to decrease. However, it does not mean that a high \n",
    "\n",
    "market capitalization directly causes a low stock price or vice versa."
   ]
  },
  {
   "cell_type": "markdown",
   "id": "e99aa9d2",
   "metadata": {},
   "source": [
    "### Conclusion"
   ]
  },
  {
   "cell_type": "markdown",
   "id": "a25113a6",
   "metadata": {},
   "source": [
    "Based on the analysis conducted, it appears that Tesla stock exhibits several favorable characteristics compared to Ferrari \n",
    "\n",
    "stock. Here is a brief conclusion based on the findings:\n",
    "\n",
    "After conducting a comprehensive analysis of the Tesla and Ferrari stocks, it can be observed that Tesla has emerged as a more \n",
    "\n",
    "appealing investment option. Tesla demonstrates a higher market capitalization, indicating its popularity among investors. \n",
    "\n",
    "Additionally, Tesla exhibits a relatively higher daily return and appears to be more profitable, as suggested by the analysis of \n",
    "\n",
    "financial indicators. These factors suggest that Tesla may offer better growth prospects and potentially higher returns for \n",
    "\n",
    "investors compared to Ferrari.\n",
    "\n",
    "\n",
    "\n",
    "However, it's important to note that investment decisions should not be based solely on the analysis of historical data and \n",
    "\n",
    "metrics. It's crucial to consider other factors such as individual risk tolerance, investment goals, market conditions, and \n",
    "\n",
    "specific company and industry dynamics. Conducting thorough research, consulting with financial advisors, and diversifying one's \n",
    "\n",
    "investment portfolio are prudent steps when making investment decisions.\n",
    "\n",
    "\n",
    "\n",
    "Please note that this conclusion is based on the analysis conducted on the provided dataset and is not intended as financial \n",
    "\n",
    "advice. Individual circumstances and preferences may vary, so it's important to make investment decisions based on careful \n",
    "\n",
    "consideration of personal financial goals and risk tolerance."
   ]
  }
 ],
 "metadata": {
  "kernelspec": {
   "display_name": "Python 3",
   "language": "python",
   "name": "python3"
  },
  "language_info": {
   "codemirror_mode": {
    "name": "ipython",
    "version": 3
   },
   "file_extension": ".py",
   "mimetype": "text/x-python",
   "name": "python",
   "nbconvert_exporter": "python",
   "pygments_lexer": "ipython3",
   "version": "3.8.8"
  }
 },
 "nbformat": 4,
 "nbformat_minor": 5
}
